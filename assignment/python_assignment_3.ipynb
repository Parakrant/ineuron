{
  "nbformat": 4,
  "nbformat_minor": 0,
  "metadata": {
    "colab": {
      "name": "python_assignment_3.ipynb",
      "provenance": [],
      "collapsed_sections": []
    },
    "kernelspec": {
      "name": "python3",
      "display_name": "Python 3"
    }
  },
  "cells": [
    {
      "cell_type": "markdown",
      "metadata": {
        "id": "lSWRU0dNT5ed"
      },
      "source": [
        "**1.1**. Write a Python Program to implement your own myreduce() function which works exactly like Python's built-in function reduce()"
      ]
    },
    {
      "cell_type": "code",
      "metadata": {
        "id": "Nk2n0SNbTlGo",
        "outputId": "1fecfcad-2c15-417d-e755-d65af9637325",
        "colab": {
          "base_uri": "https://localhost:8080/",
          "height": 33
        }
      },
      "source": [
        "def mypower(a,b):\n",
        "  return a ** b\n",
        "def myreduce(anyfunc, seq):\n",
        "  #initialize the first element of the list\n",
        "  i = seq[0]\n",
        "  #iterate from the second to last element of the list\n",
        "  for j in seq[1:]:\n",
        "    i = anyfunc(i,j) # recursion\n",
        "  return i\n",
        "\n",
        "print(myreduce(mypower,[2,2,1,2]))"
      ],
      "execution_count": 1,
      "outputs": [
        {
          "output_type": "stream",
          "text": [
            "16\n"
          ],
          "name": "stdout"
        }
      ]
    },
    {
      "cell_type": "markdown",
      "metadata": {
        "id": "-DcuMLIAZSU1"
      },
      "source": [
        "**1.2** Write a Python program to implement your own myfilter() function which works exactly\n",
        "like Python's built-in function filter()"
      ]
    },
    {
      "cell_type": "code",
      "metadata": {
        "id": "tg7CHZMQhsyk",
        "outputId": "386ae609-56df-420c-ad0d-c16576fdf417",
        "colab": {
          "base_uri": "https://localhost:8080/",
          "height": 33
        }
      },
      "source": [
        "def myfilter(anyfunc, sequence):\n",
        "  result = []\n",
        "  #iterate over sequence of items in sequence and apply filter function\n",
        "  for item in sequence:\n",
        "    if anyfunc(item):\n",
        "      result.append(item)\n",
        "  return result\n",
        "\n",
        "def isodd(i):\n",
        "  if i % 2 != 0:\n",
        "    return True\n",
        "  else:\n",
        "    return False\n",
        "\n",
        "\n",
        "print(myfilter(isodd,[2,4,6,7,8,9,11]))\n"
      ],
      "execution_count": 2,
      "outputs": [
        {
          "output_type": "stream",
          "text": [
            "[7, 9, 11]\n"
          ],
          "name": "stdout"
        }
      ]
    },
    {
      "cell_type": "markdown",
      "metadata": {
        "id": "VYat2X3c-nbo"
      },
      "source": [
        "**2** Implement List comprehensions to produce the following lists.\n",
        "Write List comprehensions to produce the following Lists\n",
        "* ['x', 'xx', 'xxx', 'xxxx', 'y', 'yy', 'yyy', 'yyyy', 'z', 'zz', 'zzz', 'zzzz']\n",
        "* ['x', 'y', 'z', 'xx', 'yy', 'zz', 'xxx', 'yyy', 'zzz', 'xxxx', 'yyyy', 'zzzz']\n",
        "* [[2], [3], [4], [3], [4], [5], [4], [5], [6]] \n",
        "* [[2, 3, 4, 5], [3, 4, 5, 6],[4, 5, 6, 7], [5, 6, 7, 8]]\n",
        "* [(1, 1), (2, 1), (3, 1), (1, 2), (2, 2), (3, 2), (1, 3), (2, 3), (3, 3)]"
      ]
    },
    {
      "cell_type": "code",
      "metadata": {
        "id": "LI2H_Rsy_9dt",
        "outputId": "214cc6fd-83a2-4133-bc58-ae71e5f4a07f",
        "colab": {
          "base_uri": "https://localhost:8080/",
          "height": 100
        }
      },
      "source": [
        "list_1 = ['x','y','z']\n",
        "print([i * n for i in list_1 for n in range(1,5)])\n",
        "print([i * n for n in range(1,5) for i in list_1])\n",
        "print([[i+j] for i in range(3) for j in range(2,5)])\n",
        "print([[i+j for i in range(4)] for j in range(2,6)])\n",
        "print([(i,j) for i in range(1,4) for j in range(1,4)])"
      ],
      "execution_count": 3,
      "outputs": [
        {
          "output_type": "stream",
          "text": [
            "['x', 'xx', 'xxx', 'xxxx', 'y', 'yy', 'yyy', 'yyyy', 'z', 'zz', 'zzz', 'zzzz']\n",
            "['x', 'y', 'z', 'xx', 'yy', 'zz', 'xxx', 'yyy', 'zzz', 'xxxx', 'yyyy', 'zzzz']\n",
            "[[2], [3], [4], [3], [4], [5], [4], [5], [6]]\n",
            "[[2, 3, 4, 5], [3, 4, 5, 6], [4, 5, 6, 7], [5, 6, 7, 8]]\n",
            "[(1, 1), (1, 2), (1, 3), (2, 1), (2, 2), (2, 3), (3, 1), (3, 2), (3, 3)]\n"
          ],
          "name": "stdout"
        }
      ]
    }
  ]
}