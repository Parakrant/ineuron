{
  "nbformat": 4,
  "nbformat_minor": 0,
  "metadata": {
    "colab": {
      "name": "python_assignment_1.ipynb",
      "provenance": [],
      "authorship_tag": "ABX9TyMyvU870zqh7S+FWmTXzcw8",
      "include_colab_link": true
    },
    "kernelspec": {
      "name": "python3",
      "display_name": "Python 3"
    }
  },
  "cells": [
    {
      "cell_type": "markdown",
      "metadata": {
        "id": "view-in-github",
        "colab_type": "text"
      },
      "source": [
        "<a href=\"https://colab.research.google.com/github/Parakrant/ineuron/blob/master/python_assignment_1.ipynb\" target=\"_parent\"><img src=\"https://colab.research.google.com/assets/colab-badge.svg\" alt=\"Open In Colab\"/></a>"
      ]
    },
    {
      "cell_type": "markdown",
      "metadata": {
        "id": "1ApTSt_aoTHS",
        "colab_type": "text"
      },
      "source": [
        "**Question 1**\n",
        "\n",
        "\n",
        "\n",
        "> Write a program which will find all such numbers which are divisible by 7 but are not a multiple of 5, between 2000 and 3200 (both included). The numbers obtained should be printed in a comma-separated sequence on a single line.\n",
        "\n",
        "\n",
        "\n",
        "\n",
        "\n",
        "\n",
        "\n",
        "\n"
      ]
    },
    {
      "cell_type": "code",
      "metadata": {
        "id": "dYIK3qPIoQDL",
        "colab_type": "code",
        "colab": {
          "base_uri": "https://localhost:8080/",
          "height": 54
        },
        "outputId": "eed74ad3-8e03-4d42-cfa6-0980c9e3eb83"
      },
      "source": [
        "lower_limit = 2000\n",
        "upper_limit = 3200\n",
        "result_list = []\n",
        "for i in range(lower_limit, upper_limit + 1):\n",
        "  if i % 7 == 0 and i% 5 != 0:\n",
        "    result_list.append(str(i))\n",
        "print(\",\".join(result_list))"
      ],
      "execution_count": 4,
      "outputs": [
        {
          "output_type": "stream",
          "text": [
            "2002,2009,2016,2023,2037,2044,2051,2058,2072,2079,2086,2093,2107,2114,2121,2128,2142,2149,2156,2163,2177,2184,2191,2198,2212,2219,2226,2233,2247,2254,2261,2268,2282,2289,2296,2303,2317,2324,2331,2338,2352,2359,2366,2373,2387,2394,2401,2408,2422,2429,2436,2443,2457,2464,2471,2478,2492,2499,2506,2513,2527,2534,2541,2548,2562,2569,2576,2583,2597,2604,2611,2618,2632,2639,2646,2653,2667,2674,2681,2688,2702,2709,2716,2723,2737,2744,2751,2758,2772,2779,2786,2793,2807,2814,2821,2828,2842,2849,2856,2863,2877,2884,2891,2898,2912,2919,2926,2933,2947,2954,2961,2968,2982,2989,2996,3003,3017,3024,3031,3038,3052,3059,3066,3073,3087,3094,3101,3108,3122,3129,3136,3143,3157,3164,3171,3178,3192,3199\n"
          ],
          "name": "stdout"
        }
      ]
    },
    {
      "cell_type": "markdown",
      "metadata": {
        "colab_type": "text",
        "id": "I3LWAG48xS-m"
      },
      "source": [
        "**Question 2**\n",
        "\n",
        "\n",
        "\n",
        "> Write a Python program to accept the user's first and last name and then getting them. Print ed in the the reverse order with a space between first name and last name.\n",
        "\n",
        "\n",
        "\n",
        "\n",
        "\n",
        "\n",
        "\n",
        "\n"
      ]
    },
    {
      "cell_type": "code",
      "metadata": {
        "id": "k5A18z9vqagG",
        "colab_type": "code",
        "colab": {
          "base_uri": "https://localhost:8080/",
          "height": 67
        },
        "outputId": "df922f5e-60ec-4555-a168-5ff460cf2c7d"
      },
      "source": [
        "fname = input(\"Please enter your First Name : \")\n",
        "lname = input(\"Please enter your Last Name : \")\n",
        "print (lname + \" \" + fname)"
      ],
      "execution_count": 6,
      "outputs": [
        {
          "output_type": "stream",
          "text": [
            "Please enter your First Name : parakrant\n",
            "Please enter your Last Name : sarkar\n",
            "sarkar parakrant\n"
          ],
          "name": "stdout"
        }
      ]
    },
    {
      "cell_type": "markdown",
      "metadata": {
        "colab_type": "text",
        "id": "AWGa04VnBpKX"
      },
      "source": [
        "**Question 3**\n",
        "\n",
        "\n",
        "\n",
        "> Write a Python program to find the volume of a sphere with diameter 12 cm..\n",
        "\n",
        "\n",
        "\n",
        "\n",
        "\n",
        "\n",
        "\n",
        "\n"
      ]
    },
    {
      "cell_type": "code",
      "metadata": {
        "id": "R48jBKGa_82c",
        "colab_type": "code",
        "colab": {
          "base_uri": "https://localhost:8080/",
          "height": 34
        },
        "outputId": "278c52d0-0a05-461f-ba53-c2c7e1f6062c"
      },
      "source": [
        "import math\n",
        "r = 12\n",
        "volume = (4/3.0) * pi * (12**3)\n",
        "print(str(volume) + \"cubic cm\")"
      ],
      "execution_count": 11,
      "outputs": [
        {
          "output_type": "stream",
          "text": [
            "7238.229473870882cubic cm\n"
          ],
          "name": "stdout"
        }
      ]
    },
    {
      "cell_type": "code",
      "metadata": {
        "id": "UzikuUzHCpXz",
        "colab_type": "code",
        "colab": {}
      },
      "source": [
        ""
      ],
      "execution_count": 9,
      "outputs": []
    }
  ]
}